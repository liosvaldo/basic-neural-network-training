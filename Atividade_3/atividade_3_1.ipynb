{
  "nbformat": 4,
  "nbformat_minor": 0,
  "metadata": {
    "colab": {
      "name": "atividade_3_1.ipynb",
      "provenance": []
    },
    "kernelspec": {
      "name": "python3",
      "display_name": "Python 3"
    },
    "language_info": {
      "name": "python"
    },
    "accelerator": "GPU"
  },
  "cells": [
    {
      "cell_type": "code",
      "execution_count": 1,
      "metadata": {
        "id": "k9Rkskm5HVdO"
      },
      "outputs": [],
      "source": [
        "import numpy as np \n",
        "import pandas as pd \n",
        "import seaborn as sns \n",
        "import cv2 \n",
        "from sklearn.preprocessing import OneHotEncoder\n",
        "from tensorflow import keras\n",
        "import matplotlib.pyplot as plt\n"
      ]
    },
    {
      "cell_type": "markdown",
      "source": [
        "## Atividade"
      ],
      "metadata": {
        "id": "sSDjgBUPOo3a"
      }
    },
    {
      "cell_type": "markdown",
      "source": [
        "1 - rede(s) CNN feitas do zero (implementação como vimos at[e a aula passada)\n",
        "\n",
        "2 - rede(s) pre treinadas (seguindo a aula de hoje)\n",
        "\n",
        "3 - rede(s) com data augmentation"
      ],
      "metadata": {
        "id": "hG-Y8DB4OqeU"
      }
    },
    {
      "cell_type": "markdown",
      "source": [
        "# Tratamento dados"
      ],
      "metadata": {
        "id": "axU5M_UWieiG"
      }
    },
    {
      "cell_type": "markdown",
      "source": [
        "## Importando dados"
      ],
      "metadata": {
        "id": "sRGuJDD7KrlP"
      }
    },
    {
      "cell_type": "code",
      "source": [
        " (x_train, y_train), (x_test, y_test) = keras.datasets.cifar10.load_data()"
      ],
      "metadata": {
        "colab": {
          "base_uri": "https://localhost:8080/"
        },
        "id": "SjbS7dH7J0WC",
        "outputId": "14c05063-6999-47c5-9f0f-ed8bb5325346"
      },
      "execution_count": 2,
      "outputs": [
        {
          "output_type": "stream",
          "name": "stdout",
          "text": [
            "Downloading data from https://www.cs.toronto.edu/~kriz/cifar-10-python.tar.gz\n",
            "170500096/170498071 [==============================] - 11s 0us/step\n",
            "170508288/170498071 [==============================] - 11s 0us/step\n"
          ]
        }
      ]
    },
    {
      "cell_type": "markdown",
      "source": [
        "Observando dados"
      ],
      "metadata": {
        "id": "NywF7fHZMHNE"
      }
    },
    {
      "cell_type": "code",
      "source": [
        "display(x_train.shape)\n",
        "display(x_test.shape)"
      ],
      "metadata": {
        "colab": {
          "base_uri": "https://localhost:8080/",
          "height": 52
        },
        "id": "wrGfMMYENGtt",
        "outputId": "840b4f53-61ba-4b6c-f9f9-ab99c0a1bdbb"
      },
      "execution_count": 3,
      "outputs": [
        {
          "output_type": "display_data",
          "data": {
            "text/plain": [
              "(50000, 32, 32, 3)"
            ]
          },
          "metadata": {}
        },
        {
          "output_type": "display_data",
          "data": {
            "text/plain": [
              "(10000, 32, 32, 3)"
            ]
          },
          "metadata": {}
        }
      ]
    },
    {
      "cell_type": "markdown",
      "source": [
        "## Dividindo dados "
      ],
      "metadata": {
        "id": "ETugHelORx-i"
      }
    },
    {
      "cell_type": "code",
      "source": [
        "from sklearn.model_selection import train_test_split"
      ],
      "metadata": {
        "id": "p75lLaPZRz0A"
      },
      "execution_count": 4,
      "outputs": []
    },
    {
      "cell_type": "code",
      "source": [
        "X_train_, X_val_, y_train_, y_val_ = train_test_split(x_train, y_train, test_size=0.33, random_state=42)"
      ],
      "metadata": {
        "id": "voxsLYwjR17N"
      },
      "execution_count": 5,
      "outputs": []
    },
    {
      "cell_type": "markdown",
      "source": [
        "## Padronizando dados"
      ],
      "metadata": {
        "id": "2jfYpOviO2YY"
      }
    },
    {
      "cell_type": "markdown",
      "source": [
        "normalizando dados"
      ],
      "metadata": {
        "id": "JI8Jo6zAO4lw"
      }
    },
    {
      "cell_type": "code",
      "source": [
        "X_train_norm = X_train_/255\n",
        "x_test_norm = x_test/255\n",
        "X_val_norm = X_val_/255"
      ],
      "metadata": {
        "id": "_k1W6OrZMG0D"
      },
      "execution_count": 6,
      "outputs": []
    },
    {
      "cell_type": "markdown",
      "source": [
        "Binarizando resultados"
      ],
      "metadata": {
        "id": "YldKgMW9PBqU"
      }
    },
    {
      "cell_type": "code",
      "source": [
        "onehot = OneHotEncoder()\n",
        "y_train_bin = onehot.fit_transform(y_train_.reshape(-1,1)).toarray()\n",
        "y_test_bin = onehot.transform(y_test.reshape(-1,1)).toarray()\n",
        "y_val_bin = onehot.transform(y_val_.reshape(-1,1)).toarray()"
      ],
      "metadata": {
        "id": "oBRI8Xy3MFl5"
      },
      "execution_count": 20,
      "outputs": []
    },
    {
      "cell_type": "markdown",
      "source": [
        "# Atividade 1"
      ],
      "metadata": {
        "id": "bpr6jApGTVZI"
      }
    },
    {
      "cell_type": "markdown",
      "source": [
        "rede(s) CNN feitas do zero "
      ],
      "metadata": {
        "id": "VUUaFYlJTXmH"
      }
    },
    {
      "cell_type": "code",
      "source": [
        "from tensorflow.python.keras.layers import Input, Dense, Activation, Dropout, Flatten, Conv2D, MaxPooling2D\n",
        "from tensorflow.python.keras.models import Sequential\n",
        "from tensorflow.python.keras.callbacks import EarlyStopping"
      ],
      "metadata": {
        "id": "bwmxlWPnRuuf"
      },
      "execution_count": 8,
      "outputs": []
    },
    {
      "cell_type": "markdown",
      "source": [
        "Modelo 1\n",
        "\n",
        "arquivo: modelo_1_1.h5\n",
        "\n",
        "resumo: loss: 1.3127 - accuracy: 0.5044 - val_loss: 1.3438 - val_accuracy: 0.5789\n",
        "\n",
        "Modelo 2\n",
        "\n",
        "arquivo: modelo_1_2.h5\n",
        "\n",
        "resumo: loss: 0.7615 - accuracy: 0.7301 - val_loss: 0.9759 - val_accuracy: 0.6695\n"
      ],
      "metadata": {
        "id": "0y__fIbGdeLc"
      }
    },
    {
      "cell_type": "code",
      "source": [
        "### REDE 1 \n",
        "# rede_1 = Sequential()\n",
        "# rede_1.add(Conv2D(64, (3,3), activation='relu', input_shape=(32,32,3)))\n",
        "# rede_1.add(Conv2D(64, (3,3), activation='relu'))\n",
        "# rede_1.add(Conv2D(32, (3,3), activation='relu'))\n",
        "# rede_1.add(MaxPooling2D())\n",
        "# rede_1.add(Conv2D(16, (3,3), activation='relu'))\n",
        "# rede_1.add(Conv2D(16, (3,3), activation='relu'))\n",
        "# rede_1.add(MaxPooling2D())\n",
        "# rede_1.add(Flatten())\n",
        "# rede_1.add(Dense(32, activation='relu'))\n",
        "# rede_1.add(Dense(32, activation='relu'))\n",
        "# rede_1.add(Dropout(0.8))\n",
        "# rede_1.add(Dense(10, activation='softmax'))\n",
        "\n",
        "# rede_1.summary()\n",
        "\n",
        "### REDE 2 \n",
        "\n",
        "# rede_1 = Sequential()\n",
        "# rede_1.add(Conv2D(64, (3,3), activation='relu', input_shape=(32,32,3)))\n",
        "# rede_1.add(MaxPooling2D())\n",
        "# rede_1.add(Conv2D(16, (3,3), activation='relu'))\n",
        "# rede_1.add(MaxPooling2D())\n",
        "# rede_1.add(Flatten())\n",
        "# rede_1.add(Dense(32, activation='relu'))\n",
        "# rede_1.add(Dense(10, activation='softmax'))\n",
        "\n",
        "# rede_1.summary()\n",
        "\n",
        "\n",
        "### REDE 3\n",
        "\n",
        "rede_1 = Sequential()\n",
        "rede_1.add(Conv2D(128, (3,3), activation='relu', input_shape=(32,32,3)))\n",
        "rede_1.add(Conv2D(64, (3,3), activation='relu'))\n",
        "rede_1.add(MaxPooling2D())\n",
        "rede_1.add(Conv2D(32, (3,3), activation='relu'))\n",
        "rede_1.add(Conv2D(32, (3,3), activation='relu'))\n",
        "rede_1.add(MaxPooling2D())\n",
        "rede_1.add(Flatten())\n",
        "rede_1.add(Dense(10, activation='softmax'))\n",
        "\n",
        "rede_1.summary()"
      ],
      "metadata": {
        "colab": {
          "base_uri": "https://localhost:8080/"
        },
        "id": "d4dXjuejT3f7",
        "outputId": "4875f21a-159a-44d3-d242-9cdfc34647f1"
      },
      "execution_count": 30,
      "outputs": [
        {
          "output_type": "stream",
          "name": "stdout",
          "text": [
            "Model: \"sequential_6\"\n",
            "_________________________________________________________________\n",
            "Layer (type)                 Output Shape              Param #   \n",
            "=================================================================\n",
            "conv2d_24 (Conv2D)           (None, 30, 30, 128)       3584      \n",
            "_________________________________________________________________\n",
            "conv2d_25 (Conv2D)           (None, 28, 28, 64)        73792     \n",
            "_________________________________________________________________\n",
            "max_pooling2d_12 (MaxPooling (None, 14, 14, 64)        0         \n",
            "_________________________________________________________________\n",
            "conv2d_26 (Conv2D)           (None, 12, 12, 32)        18464     \n",
            "_________________________________________________________________\n",
            "conv2d_27 (Conv2D)           (None, 10, 10, 32)        9248      \n",
            "_________________________________________________________________\n",
            "max_pooling2d_13 (MaxPooling (None, 5, 5, 32)          0         \n",
            "_________________________________________________________________\n",
            "flatten_6 (Flatten)          (None, 800)               0         \n",
            "_________________________________________________________________\n",
            "dense_16 (Dense)             (None, 10)                8010      \n",
            "=================================================================\n",
            "Total params: 113,098\n",
            "Trainable params: 113,098\n",
            "Non-trainable params: 0\n",
            "_________________________________________________________________\n"
          ]
        }
      ]
    },
    {
      "cell_type": "code",
      "source": [
        "rede_1.compile(loss = 'categorical_crossentropy', optimizer = 'Adam', \n",
        "                     metrics=['accuracy'])"
      ],
      "metadata": {
        "id": "ywFtIDokWxZY"
      },
      "execution_count": 31,
      "outputs": []
    },
    {
      "cell_type": "code",
      "source": [
        "es = EarlyStopping(\n",
        "    monitor=\"val_loss\",\n",
        "    min_delta=0.001,\n",
        "    patience=10,\n",
        "    verbose=1,\n",
        "    mode=\"auto\",\n",
        "    baseline=None,\n",
        "    restore_best_weights=True,\n",
        ")\n",
        "\n",
        "historico_1 = rede_1.fit(X_train_norm, \n",
        "                             y_train_bin, \n",
        "                             epochs = 150,\n",
        "                             batch_size=64,\n",
        "                             verbose = 1,\n",
        "                             callbacks = [es],\n",
        "                             validation_data = (X_val_norm, y_val_bin))"
      ],
      "metadata": {
        "colab": {
          "base_uri": "https://localhost:8080/"
        },
        "id": "owiFO6IOXSYB",
        "outputId": "ab3dcec3-efed-405e-f184-f21d1fe16871"
      },
      "execution_count": 32,
      "outputs": [
        {
          "output_type": "stream",
          "name": "stdout",
          "text": [
            "Epoch 1/150\n",
            "524/524 [==============================] - 14s 24ms/step - loss: 1.7201 - accuracy: 0.3699 - val_loss: 1.4456 - val_accuracy: 0.4787\n",
            "Epoch 2/150\n",
            "524/524 [==============================] - 11s 22ms/step - loss: 1.3457 - accuracy: 0.5190 - val_loss: 1.3689 - val_accuracy: 0.5199\n",
            "Epoch 3/150\n",
            "524/524 [==============================] - 11s 22ms/step - loss: 1.1875 - accuracy: 0.5815 - val_loss: 1.1386 - val_accuracy: 0.5976\n",
            "Epoch 4/150\n",
            "524/524 [==============================] - 11s 21ms/step - loss: 1.0720 - accuracy: 0.6233 - val_loss: 1.1182 - val_accuracy: 0.6150\n",
            "Epoch 5/150\n",
            "524/524 [==============================] - 11s 22ms/step - loss: 0.9934 - accuracy: 0.6535 - val_loss: 0.9967 - val_accuracy: 0.6512\n",
            "Epoch 6/150\n",
            "524/524 [==============================] - 12s 23ms/step - loss: 0.9308 - accuracy: 0.6752 - val_loss: 1.0092 - val_accuracy: 0.6465\n",
            "Epoch 7/150\n",
            "524/524 [==============================] - 11s 22ms/step - loss: 0.8839 - accuracy: 0.6928 - val_loss: 0.9352 - val_accuracy: 0.6779\n",
            "Epoch 8/150\n",
            "524/524 [==============================] - 12s 23ms/step - loss: 0.8335 - accuracy: 0.7119 - val_loss: 0.9196 - val_accuracy: 0.6828\n",
            "Epoch 9/150\n",
            "524/524 [==============================] - 11s 22ms/step - loss: 0.8021 - accuracy: 0.7223 - val_loss: 0.9298 - val_accuracy: 0.6781\n",
            "Epoch 10/150\n",
            "524/524 [==============================] - 11s 22ms/step - loss: 0.7667 - accuracy: 0.7316 - val_loss: 0.9059 - val_accuracy: 0.6893\n",
            "Epoch 11/150\n",
            "524/524 [==============================] - 12s 23ms/step - loss: 0.7368 - accuracy: 0.7420 - val_loss: 0.8896 - val_accuracy: 0.6948\n",
            "Epoch 12/150\n",
            "524/524 [==============================] - 12s 23ms/step - loss: 0.7088 - accuracy: 0.7519 - val_loss: 0.8845 - val_accuracy: 0.6978\n",
            "Epoch 13/150\n",
            "524/524 [==============================] - 12s 23ms/step - loss: 0.6901 - accuracy: 0.7589 - val_loss: 0.9126 - val_accuracy: 0.6876\n",
            "Epoch 14/150\n",
            "524/524 [==============================] - 11s 22ms/step - loss: 0.6633 - accuracy: 0.7682 - val_loss: 0.8697 - val_accuracy: 0.7025\n",
            "Epoch 15/150\n",
            "524/524 [==============================] - 12s 23ms/step - loss: 0.6430 - accuracy: 0.7755 - val_loss: 0.8845 - val_accuracy: 0.7073\n",
            "Epoch 16/150\n",
            "524/524 [==============================] - 12s 23ms/step - loss: 0.6253 - accuracy: 0.7793 - val_loss: 0.8760 - val_accuracy: 0.7124\n",
            "Epoch 17/150\n",
            "524/524 [==============================] - 11s 22ms/step - loss: 0.6058 - accuracy: 0.7875 - val_loss: 0.8941 - val_accuracy: 0.7038\n",
            "Epoch 18/150\n",
            "524/524 [==============================] - 11s 22ms/step - loss: 0.5852 - accuracy: 0.7942 - val_loss: 0.8853 - val_accuracy: 0.7101\n",
            "Epoch 19/150\n",
            "524/524 [==============================] - 11s 22ms/step - loss: 0.5650 - accuracy: 0.8010 - val_loss: 0.9059 - val_accuracy: 0.6990\n",
            "Epoch 20/150\n",
            "524/524 [==============================] - 11s 22ms/step - loss: 0.5471 - accuracy: 0.8066 - val_loss: 0.9191 - val_accuracy: 0.7116\n",
            "Epoch 21/150\n",
            "524/524 [==============================] - 12s 23ms/step - loss: 0.5312 - accuracy: 0.8126 - val_loss: 0.9651 - val_accuracy: 0.6924\n",
            "Epoch 22/150\n",
            "524/524 [==============================] - 11s 22ms/step - loss: 0.5158 - accuracy: 0.8179 - val_loss: 0.9335 - val_accuracy: 0.7083\n",
            "Epoch 23/150\n",
            "524/524 [==============================] - 11s 21ms/step - loss: 0.5034 - accuracy: 0.8226 - val_loss: 0.9655 - val_accuracy: 0.7002\n",
            "Epoch 24/150\n",
            "524/524 [==============================] - 11s 21ms/step - loss: 0.4917 - accuracy: 0.8267 - val_loss: 0.9694 - val_accuracy: 0.7068\n",
            "Restoring model weights from the end of the best epoch.\n",
            "Epoch 00024: early stopping\n"
          ]
        }
      ]
    },
    {
      "cell_type": "code",
      "source": [
        "rede_1.save('modelo_1_3.h5')"
      ],
      "metadata": {
        "id": "Ist3j09GYAhw"
      },
      "execution_count": 33,
      "outputs": []
    },
    {
      "cell_type": "code",
      "source": [
        ""
      ],
      "metadata": {
        "id": "uKbsejQXdUlS"
      },
      "execution_count": null,
      "outputs": []
    },
    {
      "cell_type": "markdown",
      "source": [
        "# Atividade 2 "
      ],
      "metadata": {
        "id": "NOqw0Ging3we"
      }
    },
    {
      "cell_type": "markdown",
      "source": [
        "rede(s) pre treinadas"
      ],
      "metadata": {
        "id": "6802KFjFg9me"
      }
    },
    {
      "cell_type": "markdown",
      "source": [
        "modelo utilizado: resnet"
      ],
      "metadata": {
        "id": "pfzm2RCkhkU0"
      }
    },
    {
      "cell_type": "code",
      "source": [
        "model_2 = keras.applications.VGG16(\n",
        "    weights=\"imagenet\",\n",
        "    input_shape=(32,32,3),\n",
        "    include_top=False\n",
        ")"
      ],
      "metadata": {
        "colab": {
          "base_uri": "https://localhost:8080/"
        },
        "id": "v6-28K0mg9Ha",
        "outputId": "ea3039c4-3a1f-4582-849a-98482cb60d35"
      },
      "execution_count": 40,
      "outputs": [
        {
          "output_type": "stream",
          "name": "stdout",
          "text": [
            "Downloading data from https://storage.googleapis.com/tensorflow/keras-applications/vgg16/vgg16_weights_tf_dim_ordering_tf_kernels_notop.h5\n",
            "58892288/58889256 [==============================] - 2s 0us/step\n",
            "58900480/58889256 [==============================] - 2s 0us/step\n"
          ]
        }
      ]
    },
    {
      "cell_type": "code",
      "source": [
        "flatten = Flatten()\n",
        "dense = Dense(10,activation='softmax')\n",
        "\n",
        "rede_2 = Sequential([\n",
        "        model_2,\n",
        "        flatten,\n",
        "        dense\n",
        "    ])"
      ],
      "metadata": {
        "id": "4v4mhrzihs9J"
      },
      "execution_count": 41,
      "outputs": []
    },
    {
      "cell_type": "code",
      "source": [
        "rede_2.compile(loss='categorical_crossentropy',\n",
        "                optimizer='adam',\n",
        "                metrics=['accuracy'])\n"
      ],
      "metadata": {
        "id": "hVq3ABR8iKum"
      },
      "execution_count": 42,
      "outputs": []
    },
    {
      "cell_type": "code",
      "source": [
        "es = EarlyStopping(\n",
        "    monitor=\"val_loss\",\n",
        "    min_delta=0.001,\n",
        "    patience=10,\n",
        "    verbose=1,\n",
        "    mode=\"auto\",\n",
        "    baseline=None,\n",
        "    restore_best_weights=True,\n",
        ")\n",
        "\n",
        "historico_2 = rede_2.fit(X_train_norm, \n",
        "                             y_train_bin, \n",
        "                             epochs = 150,\n",
        "                             batch_size=64,\n",
        "                             verbose = 1,\n",
        "                             callbacks = [es],\n",
        "                             validation_data = (X_val_norm, y_val_bin))"
      ],
      "metadata": {
        "colab": {
          "base_uri": "https://localhost:8080/"
        },
        "id": "BQH36DrJiTvr",
        "outputId": "4d319910-3872-4c9d-e27e-e860deab6c14"
      },
      "execution_count": 43,
      "outputs": [
        {
          "output_type": "stream",
          "name": "stdout",
          "text": [
            "Epoch 1/150\n",
            "524/524 [==============================] - 51s 92ms/step - loss: 1.9154 - accuracy: 0.2376 - val_loss: 1.5964 - val_accuracy: 0.3692\n",
            "Epoch 2/150\n",
            "524/524 [==============================] - 47s 89ms/step - loss: 1.4235 - accuracy: 0.4519 - val_loss: 1.1951 - val_accuracy: 0.5615\n",
            "Epoch 3/150\n",
            "524/524 [==============================] - 47s 89ms/step - loss: 1.0976 - accuracy: 0.6105 - val_loss: 0.9419 - val_accuracy: 0.6743\n",
            "Epoch 4/150\n",
            "524/524 [==============================] - 47s 89ms/step - loss: 0.8855 - accuracy: 0.6974 - val_loss: 0.8342 - val_accuracy: 0.7219\n",
            "Epoch 5/150\n",
            "524/524 [==============================] - 51s 98ms/step - loss: 0.7390 - accuracy: 0.7499 - val_loss: 0.7780 - val_accuracy: 0.7412\n",
            "Epoch 6/150\n",
            "524/524 [==============================] - 48s 91ms/step - loss: 0.6268 - accuracy: 0.7879 - val_loss: 0.7994 - val_accuracy: 0.7398\n",
            "Epoch 7/150\n",
            "524/524 [==============================] - 47s 89ms/step - loss: 0.5327 - accuracy: 0.8224 - val_loss: 0.7873 - val_accuracy: 0.7479\n",
            "Epoch 8/150\n",
            "524/524 [==============================] - 47s 89ms/step - loss: 0.4649 - accuracy: 0.8475 - val_loss: 0.7780 - val_accuracy: 0.7647\n",
            "Epoch 9/150\n",
            "524/524 [==============================] - 51s 97ms/step - loss: 0.4030 - accuracy: 0.8688 - val_loss: 0.7526 - val_accuracy: 0.7710\n",
            "Epoch 10/150\n",
            "524/524 [==============================] - 47s 90ms/step - loss: 0.3435 - accuracy: 0.8867 - val_loss: 0.7722 - val_accuracy: 0.7775\n",
            "Epoch 11/150\n",
            "524/524 [==============================] - 47s 89ms/step - loss: 0.3106 - accuracy: 0.9010 - val_loss: 0.8108 - val_accuracy: 0.7747\n",
            "Epoch 12/150\n",
            "524/524 [==============================] - 47s 89ms/step - loss: 0.2608 - accuracy: 0.9164 - val_loss: 0.8104 - val_accuracy: 0.7829\n",
            "Epoch 13/150\n",
            "524/524 [==============================] - 47s 89ms/step - loss: 0.2439 - accuracy: 0.9218 - val_loss: 0.9855 - val_accuracy: 0.7703\n",
            "Epoch 14/150\n",
            "524/524 [==============================] - 47s 89ms/step - loss: 0.2202 - accuracy: 0.9303 - val_loss: 0.8509 - val_accuracy: 0.7778\n",
            "Epoch 15/150\n",
            "524/524 [==============================] - 47s 89ms/step - loss: 0.2153 - accuracy: 0.9317 - val_loss: 0.8863 - val_accuracy: 0.7819\n",
            "Epoch 16/150\n",
            "524/524 [==============================] - 47s 89ms/step - loss: 0.2030 - accuracy: 0.9375 - val_loss: 0.9137 - val_accuracy: 0.7798\n",
            "Epoch 17/150\n",
            "524/524 [==============================] - 51s 98ms/step - loss: 0.1879 - accuracy: 0.9422 - val_loss: 1.0680 - val_accuracy: 0.7753\n",
            "Epoch 18/150\n",
            "524/524 [==============================] - 47s 89ms/step - loss: 0.1616 - accuracy: 0.9503 - val_loss: 0.9565 - val_accuracy: 0.7807\n",
            "Epoch 19/150\n",
            "524/524 [==============================] - 51s 98ms/step - loss: 0.1450 - accuracy: 0.9560 - val_loss: 0.9580 - val_accuracy: 0.7950\n",
            "Restoring model weights from the end of the best epoch.\n",
            "Epoch 00019: early stopping\n"
          ]
        }
      ]
    },
    {
      "cell_type": "code",
      "source": [
        "rede_2.save('modelo_2_1.h5')"
      ],
      "metadata": {
        "colab": {
          "base_uri": "https://localhost:8080/",
          "height": 311
        },
        "id": "8jWCiSHKiPN5",
        "outputId": "eb3ea7f9-a4d7-4d67-9c14-925daf2c094a"
      },
      "execution_count": 47,
      "outputs": [
        {
          "output_type": "error",
          "ename": "NotImplementedError",
          "evalue": "ignored",
          "traceback": [
            "\u001b[0;31m---------------------------------------------------------------------------\u001b[0m",
            "\u001b[0;31mNotImplementedError\u001b[0m                       Traceback (most recent call last)",
            "\u001b[0;32m<ipython-input-47-20d61c392794>\u001b[0m in \u001b[0;36m<module>\u001b[0;34m()\u001b[0m\n\u001b[0;32m----> 1\u001b[0;31m \u001b[0mrede_2\u001b[0m\u001b[0;34m.\u001b[0m\u001b[0msave\u001b[0m\u001b[0;34m(\u001b[0m\u001b[0;34m'modelo_2_1.h5'\u001b[0m\u001b[0;34m)\u001b[0m\u001b[0;34m\u001b[0m\u001b[0;34m\u001b[0m\u001b[0m\n\u001b[0m",
            "\u001b[0;32m/usr/local/lib/python3.7/dist-packages/tensorflow/python/keras/engine/training.py\u001b[0m in \u001b[0;36msave\u001b[0;34m(self, filepath, overwrite, include_optimizer, save_format, signatures, options, save_traces)\u001b[0m\n\u001b[1;32m   2133\u001b[0m     \u001b[0;31m# pylint: enable=line-too-long\u001b[0m\u001b[0;34m\u001b[0m\u001b[0;34m\u001b[0m\u001b[0;34m\u001b[0m\u001b[0m\n\u001b[1;32m   2134\u001b[0m     save.save_model(self, filepath, overwrite, include_optimizer, save_format,\n\u001b[0;32m-> 2135\u001b[0;31m                     signatures, options, save_traces)\n\u001b[0m\u001b[1;32m   2136\u001b[0m \u001b[0;34m\u001b[0m\u001b[0m\n\u001b[1;32m   2137\u001b[0m   def save_weights(self,\n",
            "\u001b[0;32m/usr/local/lib/python3.7/dist-packages/tensorflow/python/keras/saving/save.py\u001b[0m in \u001b[0;36msave_model\u001b[0;34m(model, filepath, overwrite, include_optimizer, save_format, signatures, options, save_traces)\u001b[0m\n\u001b[1;32m    145\u001b[0m           'or using `save_weights`.')\n\u001b[1;32m    146\u001b[0m     hdf5_format.save_model_to_hdf5(\n\u001b[0;32m--> 147\u001b[0;31m         model, filepath, overwrite, include_optimizer)\n\u001b[0m\u001b[1;32m    148\u001b[0m   \u001b[0;32melse\u001b[0m\u001b[0;34m:\u001b[0m\u001b[0;34m\u001b[0m\u001b[0;34m\u001b[0m\u001b[0m\n\u001b[1;32m    149\u001b[0m     \u001b[0;32mwith\u001b[0m \u001b[0mgeneric_utils\u001b[0m\u001b[0;34m.\u001b[0m\u001b[0mSharedObjectSavingScope\u001b[0m\u001b[0;34m(\u001b[0m\u001b[0;34m)\u001b[0m\u001b[0;34m:\u001b[0m\u001b[0;34m\u001b[0m\u001b[0;34m\u001b[0m\u001b[0m\n",
            "\u001b[0;32m/usr/local/lib/python3.7/dist-packages/tensorflow/python/keras/saving/hdf5_format.py\u001b[0m in \u001b[0;36msave_model_to_hdf5\u001b[0;34m(model, filepath, overwrite, include_optimizer)\u001b[0m\n\u001b[1;32m    108\u001b[0m \u001b[0;34m\u001b[0m\u001b[0m\n\u001b[1;32m    109\u001b[0m   \u001b[0;32mtry\u001b[0m\u001b[0;34m:\u001b[0m\u001b[0;34m\u001b[0m\u001b[0;34m\u001b[0m\u001b[0m\n\u001b[0;32m--> 110\u001b[0;31m     \u001b[0mmodel_metadata\u001b[0m \u001b[0;34m=\u001b[0m \u001b[0msaving_utils\u001b[0m\u001b[0;34m.\u001b[0m\u001b[0mmodel_metadata\u001b[0m\u001b[0;34m(\u001b[0m\u001b[0mmodel\u001b[0m\u001b[0;34m,\u001b[0m \u001b[0minclude_optimizer\u001b[0m\u001b[0;34m)\u001b[0m\u001b[0;34m\u001b[0m\u001b[0;34m\u001b[0m\u001b[0m\n\u001b[0m\u001b[1;32m    111\u001b[0m     \u001b[0;32mfor\u001b[0m \u001b[0mk\u001b[0m\u001b[0;34m,\u001b[0m \u001b[0mv\u001b[0m \u001b[0;32min\u001b[0m \u001b[0mmodel_metadata\u001b[0m\u001b[0;34m.\u001b[0m\u001b[0mitems\u001b[0m\u001b[0;34m(\u001b[0m\u001b[0;34m)\u001b[0m\u001b[0;34m:\u001b[0m\u001b[0;34m\u001b[0m\u001b[0;34m\u001b[0m\u001b[0m\n\u001b[1;32m    112\u001b[0m       \u001b[0;32mif\u001b[0m \u001b[0misinstance\u001b[0m\u001b[0;34m(\u001b[0m\u001b[0mv\u001b[0m\u001b[0;34m,\u001b[0m \u001b[0;34m(\u001b[0m\u001b[0mdict\u001b[0m\u001b[0;34m,\u001b[0m \u001b[0mlist\u001b[0m\u001b[0;34m,\u001b[0m \u001b[0mtuple\u001b[0m\u001b[0;34m)\u001b[0m\u001b[0;34m)\u001b[0m\u001b[0;34m:\u001b[0m\u001b[0;34m\u001b[0m\u001b[0;34m\u001b[0m\u001b[0m\n",
            "\u001b[0;32m/usr/local/lib/python3.7/dist-packages/tensorflow/python/keras/saving/saving_utils.py\u001b[0m in \u001b[0;36mmodel_metadata\u001b[0;34m(model, include_optimizer, require_config)\u001b[0m\n\u001b[1;32m    151\u001b[0m   \u001b[0;32mexcept\u001b[0m \u001b[0mNotImplementedError\u001b[0m \u001b[0;32mas\u001b[0m \u001b[0me\u001b[0m\u001b[0;34m:\u001b[0m\u001b[0;34m\u001b[0m\u001b[0;34m\u001b[0m\u001b[0m\n\u001b[1;32m    152\u001b[0m     \u001b[0;32mif\u001b[0m \u001b[0mrequire_config\u001b[0m\u001b[0;34m:\u001b[0m\u001b[0;34m\u001b[0m\u001b[0;34m\u001b[0m\u001b[0m\n\u001b[0;32m--> 153\u001b[0;31m       \u001b[0;32mraise\u001b[0m \u001b[0me\u001b[0m\u001b[0;34m\u001b[0m\u001b[0;34m\u001b[0m\u001b[0m\n\u001b[0m\u001b[1;32m    154\u001b[0m \u001b[0;34m\u001b[0m\u001b[0m\n\u001b[1;32m    155\u001b[0m   metadata = dict(\n",
            "\u001b[0;32m/usr/local/lib/python3.7/dist-packages/tensorflow/python/keras/saving/saving_utils.py\u001b[0m in \u001b[0;36mmodel_metadata\u001b[0;34m(model, include_optimizer, require_config)\u001b[0m\n\u001b[1;32m    148\u001b[0m   \u001b[0mmodel_config\u001b[0m \u001b[0;34m=\u001b[0m \u001b[0;34m{\u001b[0m\u001b[0;34m'class_name'\u001b[0m\u001b[0;34m:\u001b[0m \u001b[0mmodel\u001b[0m\u001b[0;34m.\u001b[0m\u001b[0m__class__\u001b[0m\u001b[0;34m.\u001b[0m\u001b[0m__name__\u001b[0m\u001b[0;34m}\u001b[0m\u001b[0;34m\u001b[0m\u001b[0;34m\u001b[0m\u001b[0m\n\u001b[1;32m    149\u001b[0m   \u001b[0;32mtry\u001b[0m\u001b[0;34m:\u001b[0m\u001b[0;34m\u001b[0m\u001b[0;34m\u001b[0m\u001b[0m\n\u001b[0;32m--> 150\u001b[0;31m     \u001b[0mmodel_config\u001b[0m\u001b[0;34m[\u001b[0m\u001b[0;34m'config'\u001b[0m\u001b[0;34m]\u001b[0m \u001b[0;34m=\u001b[0m \u001b[0mmodel\u001b[0m\u001b[0;34m.\u001b[0m\u001b[0mget_config\u001b[0m\u001b[0;34m(\u001b[0m\u001b[0;34m)\u001b[0m\u001b[0;34m\u001b[0m\u001b[0;34m\u001b[0m\u001b[0m\n\u001b[0m\u001b[1;32m    151\u001b[0m   \u001b[0;32mexcept\u001b[0m \u001b[0mNotImplementedError\u001b[0m \u001b[0;32mas\u001b[0m \u001b[0me\u001b[0m\u001b[0;34m:\u001b[0m\u001b[0;34m\u001b[0m\u001b[0;34m\u001b[0m\u001b[0m\n\u001b[1;32m    152\u001b[0m     \u001b[0;32mif\u001b[0m \u001b[0mrequire_config\u001b[0m\u001b[0;34m:\u001b[0m\u001b[0;34m\u001b[0m\u001b[0;34m\u001b[0m\u001b[0m\n",
            "\u001b[0;32m/usr/local/lib/python3.7/dist-packages/tensorflow/python/keras/engine/sequential.py\u001b[0m in \u001b[0;36mget_config\u001b[0;34m(self)\u001b[0m\n\u001b[1;32m    473\u001b[0m       \u001b[0;31m# of `self.layers`). Note that `self._self_tracked_trackables` is managed\u001b[0m\u001b[0;34m\u001b[0m\u001b[0;34m\u001b[0m\u001b[0;34m\u001b[0m\u001b[0m\n\u001b[1;32m    474\u001b[0m       \u001b[0;31m# by the tracking infrastructure and should not be used.\u001b[0m\u001b[0;34m\u001b[0m\u001b[0;34m\u001b[0m\u001b[0;34m\u001b[0m\u001b[0m\n\u001b[0;32m--> 475\u001b[0;31m       \u001b[0mlayer_configs\u001b[0m\u001b[0;34m.\u001b[0m\u001b[0mappend\u001b[0m\u001b[0;34m(\u001b[0m\u001b[0mgeneric_utils\u001b[0m\u001b[0;34m.\u001b[0m\u001b[0mserialize_keras_object\u001b[0m\u001b[0;34m(\u001b[0m\u001b[0mlayer\u001b[0m\u001b[0;34m)\u001b[0m\u001b[0;34m)\u001b[0m\u001b[0;34m\u001b[0m\u001b[0;34m\u001b[0m\u001b[0m\n\u001b[0m\u001b[1;32m    476\u001b[0m     config = {\n\u001b[1;32m    477\u001b[0m         \u001b[0;34m'name'\u001b[0m\u001b[0;34m:\u001b[0m \u001b[0mself\u001b[0m\u001b[0;34m.\u001b[0m\u001b[0mname\u001b[0m\u001b[0;34m,\u001b[0m\u001b[0;34m\u001b[0m\u001b[0;34m\u001b[0m\u001b[0m\n",
            "\u001b[0;32m/usr/local/lib/python3.7/dist-packages/tensorflow/python/keras/utils/generic_utils.py\u001b[0m in \u001b[0;36mserialize_keras_object\u001b[0;34m(instance)\u001b[0m\n\u001b[1;32m    506\u001b[0m         return serialize_keras_class_and_config(\n\u001b[1;32m    507\u001b[0m             name, {_LAYER_UNDEFINED_CONFIG_KEY: True})\n\u001b[0;32m--> 508\u001b[0;31m       \u001b[0;32mraise\u001b[0m \u001b[0me\u001b[0m\u001b[0;34m\u001b[0m\u001b[0;34m\u001b[0m\u001b[0m\n\u001b[0m\u001b[1;32m    509\u001b[0m     \u001b[0mserialization_config\u001b[0m \u001b[0;34m=\u001b[0m \u001b[0;34m{\u001b[0m\u001b[0;34m}\u001b[0m\u001b[0;34m\u001b[0m\u001b[0;34m\u001b[0m\u001b[0m\n\u001b[1;32m    510\u001b[0m     \u001b[0;32mfor\u001b[0m \u001b[0mkey\u001b[0m\u001b[0;34m,\u001b[0m \u001b[0mitem\u001b[0m \u001b[0;32min\u001b[0m \u001b[0mconfig\u001b[0m\u001b[0;34m.\u001b[0m\u001b[0mitems\u001b[0m\u001b[0;34m(\u001b[0m\u001b[0;34m)\u001b[0m\u001b[0;34m:\u001b[0m\u001b[0;34m\u001b[0m\u001b[0;34m\u001b[0m\u001b[0m\n",
            "\u001b[0;32m/usr/local/lib/python3.7/dist-packages/tensorflow/python/keras/utils/generic_utils.py\u001b[0m in \u001b[0;36mserialize_keras_object\u001b[0;34m(instance)\u001b[0m\n\u001b[1;32m    501\u001b[0m     \u001b[0mname\u001b[0m \u001b[0;34m=\u001b[0m \u001b[0mget_registered_name\u001b[0m\u001b[0;34m(\u001b[0m\u001b[0minstance\u001b[0m\u001b[0;34m.\u001b[0m\u001b[0m__class__\u001b[0m\u001b[0;34m)\u001b[0m\u001b[0;34m\u001b[0m\u001b[0;34m\u001b[0m\u001b[0m\n\u001b[1;32m    502\u001b[0m     \u001b[0;32mtry\u001b[0m\u001b[0;34m:\u001b[0m\u001b[0;34m\u001b[0m\u001b[0;34m\u001b[0m\u001b[0m\n\u001b[0;32m--> 503\u001b[0;31m       \u001b[0mconfig\u001b[0m \u001b[0;34m=\u001b[0m \u001b[0minstance\u001b[0m\u001b[0;34m.\u001b[0m\u001b[0mget_config\u001b[0m\u001b[0;34m(\u001b[0m\u001b[0;34m)\u001b[0m\u001b[0;34m\u001b[0m\u001b[0;34m\u001b[0m\u001b[0m\n\u001b[0m\u001b[1;32m    504\u001b[0m     \u001b[0;32mexcept\u001b[0m \u001b[0mNotImplementedError\u001b[0m \u001b[0;32mas\u001b[0m \u001b[0me\u001b[0m\u001b[0;34m:\u001b[0m\u001b[0;34m\u001b[0m\u001b[0;34m\u001b[0m\u001b[0m\n\u001b[1;32m    505\u001b[0m       \u001b[0;32mif\u001b[0m \u001b[0m_SKIP_FAILED_SERIALIZATION\u001b[0m\u001b[0;34m:\u001b[0m\u001b[0;34m\u001b[0m\u001b[0;34m\u001b[0m\u001b[0m\n",
            "\u001b[0;32m/usr/local/lib/python3.7/dist-packages/tensorflow/python/keras/engine/base_layer.py\u001b[0m in \u001b[0;36mget_config\u001b[0;34m(self)\u001b[0m\n\u001b[1;32m    733\u001b[0m       raise NotImplementedError('Layer %s has arguments in `__init__` and '\n\u001b[1;32m    734\u001b[0m                                 \u001b[0;34m'therefore must override `get_config`.'\u001b[0m \u001b[0;34m%\u001b[0m\u001b[0;34m\u001b[0m\u001b[0;34m\u001b[0m\u001b[0m\n\u001b[0;32m--> 735\u001b[0;31m                                 self.__class__.__name__)\n\u001b[0m\u001b[1;32m    736\u001b[0m     \u001b[0;32mreturn\u001b[0m \u001b[0mconfig\u001b[0m\u001b[0;34m\u001b[0m\u001b[0;34m\u001b[0m\u001b[0m\n\u001b[1;32m    737\u001b[0m \u001b[0;34m\u001b[0m\u001b[0m\n",
            "\u001b[0;31mNotImplementedError\u001b[0m: Layer ModuleWrapper has arguments in `__init__` and therefore must override `get_config`."
          ]
        }
      ]
    },
    {
      "cell_type": "markdown",
      "source": [
        "# Atividade 3"
      ],
      "metadata": {
        "id": "aWYWwWP9uLiB"
      }
    },
    {
      "cell_type": "markdown",
      "source": [
        " rede(s) com data augmentation"
      ],
      "metadata": {
        "id": "IvVFvUc1u0cD"
      }
    },
    {
      "cell_type": "code",
      "source": [
        "from tensorflow.keras.preprocessing.image import ImageDataGenerator\n"
      ],
      "metadata": {
        "id": "qsMsdPGwlxFA"
      },
      "execution_count": 49,
      "outputs": []
    },
    {
      "cell_type": "markdown",
      "source": [
        "cria o modelo"
      ],
      "metadata": {
        "id": "Qp6u7q4gvgXH"
      }
    },
    {
      "cell_type": "code",
      "source": [
        "train_datagen = ImageDataGenerator(\n",
        "    rescale=1/255,\n",
        "    shear_range=0.2,\n",
        "    # zoom_range=0.2,\n",
        "    horizontal_flip=True,\n",
        ")\n",
        "val_datagen = ImageDataGenerator(rescale=1/255)"
      ],
      "metadata": {
        "id": "Kd-cPv7ju-HZ"
      },
      "execution_count": 59,
      "outputs": []
    },
    {
      "cell_type": "markdown",
      "source": [
        "fita o mmodelo"
      ],
      "metadata": {
        "id": "KgOZPS09vhpM"
      }
    },
    {
      "cell_type": "code",
      "source": [
        "train_datagen.fit(X_train_norm)\n",
        "val_datagen.fit(X_val_norm)"
      ],
      "metadata": {
        "id": "pKwR7aacvVTK"
      },
      "execution_count": 60,
      "outputs": []
    },
    {
      "cell_type": "markdown",
      "source": [
        "Utilizando os 3 modelos, 1 da atividadde 1 e outros 2 novos "
      ],
      "metadata": {
        "id": "GGLbVDzFv8n2"
      }
    },
    {
      "cell_type": "code",
      "source": [
        "### REDE 3\n",
        "\n",
        "rede_3 = Sequential()\n",
        "rede_3.add(Conv2D(128, (3,3), activation='relu', input_shape=(32,32,3)))\n",
        "rede_3.add(Conv2D(64, (3,3), activation='relu'))\n",
        "rede_3.add(MaxPooling2D())\n",
        "rede_3.add(Conv2D(32, (3,3), activation='relu'))\n",
        "rede_3.add(Conv2D(32, (3,3), activation='relu'))\n",
        "rede_3.add(MaxPooling2D())\n",
        "rede_3.add(Flatten())\n",
        "rede_3.add(Dense(10, activation='softmax'))\n",
        "\n",
        "rede_3.summary()"
      ],
      "metadata": {
        "colab": {
          "base_uri": "https://localhost:8080/"
        },
        "id": "gBlPrDpav61L",
        "outputId": "daed1579-6d86-4b65-ace2-805edf840a8f"
      },
      "execution_count": 61,
      "outputs": [
        {
          "output_type": "stream",
          "name": "stdout",
          "text": [
            "Model: \"sequential_10\"\n",
            "_________________________________________________________________\n",
            "Layer (type)                 Output Shape              Param #   \n",
            "=================================================================\n",
            "conv2d_32 (Conv2D)           (None, 30, 30, 128)       3584      \n",
            "_________________________________________________________________\n",
            "conv2d_33 (Conv2D)           (None, 28, 28, 64)        73792     \n",
            "_________________________________________________________________\n",
            "max_pooling2d_16 (MaxPooling (None, 14, 14, 64)        0         \n",
            "_________________________________________________________________\n",
            "conv2d_34 (Conv2D)           (None, 12, 12, 32)        18464     \n",
            "_________________________________________________________________\n",
            "conv2d_35 (Conv2D)           (None, 10, 10, 32)        9248      \n",
            "_________________________________________________________________\n",
            "max_pooling2d_17 (MaxPooling (None, 5, 5, 32)          0         \n",
            "_________________________________________________________________\n",
            "flatten_10 (Flatten)         (None, 800)               0         \n",
            "_________________________________________________________________\n",
            "dense_20 (Dense)             (None, 10)                8010      \n",
            "=================================================================\n",
            "Total params: 113,098\n",
            "Trainable params: 113,098\n",
            "Non-trainable params: 0\n",
            "_________________________________________________________________\n"
          ]
        }
      ]
    },
    {
      "cell_type": "code",
      "source": [
        "rede_3.compile(loss = 'categorical_crossentropy', optimizer = 'Adam', \n",
        "                     metrics=['accuracy'])"
      ],
      "metadata": {
        "id": "z_ys9uecwMMo"
      },
      "execution_count": 62,
      "outputs": []
    },
    {
      "cell_type": "code",
      "source": [
        "es = EarlyStopping(\n",
        "    monitor=\"val_loss\",\n",
        "    min_delta=0.001,\n",
        "    patience=10,\n",
        "    verbose=1,\n",
        "    mode=\"auto\",\n",
        "    baseline=None,\n",
        "    restore_best_weights=True,\n",
        ")\n",
        "\n",
        "historico_3 = rede_3.fit(train_datagen.flow(X_train_norm, \n",
        "                             y_train_bin, batch_size=64), \n",
        "                             epochs = 150,\n",
        "                             steps_per_epoch=X_train_norm.shape[0]// 64,\n",
        "                             verbose = 1,\n",
        "                             callbacks = [es],\n",
        "                             validation_data = val_datagen.flow(X_val_norm, y_val_bin, batch_size=64))"
      ],
      "metadata": {
        "colab": {
          "base_uri": "https://localhost:8080/"
        },
        "id": "NuCZ1NQowMJb",
        "outputId": "e5f1c8bb-56da-4a01-8966-0b4c23bdd5aa"
      },
      "execution_count": null,
      "outputs": [
        {
          "output_type": "stream",
          "name": "stdout",
          "text": [
            "Epoch 1/150\n",
            "523/523 [==============================] - ETA: 0s - loss: 2.3027 - accuracy: 0.0996"
          ]
        }
      ]
    },
    {
      "cell_type": "code",
      "source": [
        ""
      ],
      "metadata": {
        "id": "tx82jT0lxAGJ"
      },
      "execution_count": null,
      "outputs": []
    }
  ]
}